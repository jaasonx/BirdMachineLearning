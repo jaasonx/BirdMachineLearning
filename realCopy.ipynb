{
 "cells": [
  {
   "cell_type": "code",
   "execution_count": 1,
   "id": "a98b922f-c455-48e6-b17a-b0804ee28297",
   "metadata": {},
   "outputs": [],
   "source": [
    "# the cnn module provides classes for training/predicting with various types of CNNs\n",
    "from opensoundscape.torch.models.cnn import CNN\n",
    "\n",
    "#other utilities and packages\n",
    "import torch\n",
    "import pandas as pd\n",
    "from pathlib import Path\n",
    "import numpy as np\n",
    "import pandas as pd\n",
    "import random\n",
    "import subprocess\n",
    "\n",
    "#set up plotting\n",
    "from matplotlib import pyplot as plt\n",
    "plt.rcParams['figure.figsize']=[15,5] #for large visuals\n",
    "%config InlineBackend.figure_format = 'retina'"
   ]
  },
  {
   "cell_type": "code",
   "execution_count": 2,
   "id": "838c5600-093d-4ece-98c2-4fdce12f86a5",
   "metadata": {},
   "outputs": [
    {
     "name": "stderr",
     "output_type": "stream",
     "text": [
      "  % Total    % Received % Xferd  Average Speed   Time    Time     Time  Current\n",
      "                                 Dload  Upload   Total   Spent    Left  Speed\n",
      "  0     0    0     0    0     0      0      0 --:--:-- --:--:-- --:--:--     0\n",
      "  0     0    0     0    0     0      0      0 --:--:-- --:--:-- --:--:--     0\n",
      "100     7    0     7    0     0      5      0 --:--:--  0:00:01 --:--:--     5\n",
      "100 9499k  100 9499k    0     0  3769k      0  0:00:02  0:00:02 --:--:-- 8161k\n"
     ]
    },
    {
     "data": {
      "text/plain": [
       "CompletedProcess(args=['rm', 'woodcock_labeled_data.tar.gz'], returncode=0)"
      ]
     },
     "execution_count": 2,
     "metadata": {},
     "output_type": "execute_result"
    }
   ],
   "source": [
    "subprocess.run(['curl','https://pitt.box.com/shared/static/79fi7d715dulcldsy6uogz02rsn5uesd.gz','-L', '-o','woodcock_labeled_data.tar.gz']) # Download the data\n",
    "subprocess.run([\"tar\",\"-xzf\", \"woodcock_labeled_data.tar.gz\"]) # Unzip the downloaded tar.gz file\n",
    "subprocess.run([\"rm\", \"woodcock_labeled_data.tar.gz\"]) # Remove the file after its contents are unzipped"
   ]
  },
  {
   "cell_type": "code",
   "execution_count": 3,
   "id": "521456ed-86ce-4944-9d48-9bb83b126671",
   "metadata": {},
   "outputs": [
    {
     "data": {
      "text/html": [
       "<div>\n",
       "<style scoped>\n",
       "    .dataframe tbody tr th:only-of-type {\n",
       "        vertical-align: middle;\n",
       "    }\n",
       "\n",
       "    .dataframe tbody tr th {\n",
       "        vertical-align: top;\n",
       "    }\n",
       "\n",
       "    .dataframe thead th {\n",
       "        text-align: right;\n",
       "    }\n",
       "</style>\n",
       "<table border=\"1\" class=\"dataframe\">\n",
       "  <thead>\n",
       "    <tr style=\"text-align: right;\">\n",
       "      <th></th>\n",
       "      <th>filename</th>\n",
       "      <th>woodcock</th>\n",
       "      <th>sound_type</th>\n",
       "    </tr>\n",
       "  </thead>\n",
       "  <tbody>\n",
       "    <tr>\n",
       "      <th>0</th>\n",
       "      <td>d4c40b6066b489518f8da83af1ee4984.wav</td>\n",
       "      <td>present</td>\n",
       "      <td>song</td>\n",
       "    </tr>\n",
       "    <tr>\n",
       "      <th>1</th>\n",
       "      <td>e84a4b60a4f2d049d73162ee99a7ead8.wav</td>\n",
       "      <td>absent</td>\n",
       "      <td>na</td>\n",
       "    </tr>\n",
       "    <tr>\n",
       "      <th>2</th>\n",
       "      <td>79678c979ebb880d5ed6d56f26ba69ff.wav</td>\n",
       "      <td>present</td>\n",
       "      <td>song</td>\n",
       "    </tr>\n",
       "    <tr>\n",
       "      <th>3</th>\n",
       "      <td>49890077267b569e142440fa39b3041c.wav</td>\n",
       "      <td>present</td>\n",
       "      <td>song</td>\n",
       "    </tr>\n",
       "    <tr>\n",
       "      <th>4</th>\n",
       "      <td>0c453a87185d8c7ce05c5c5ac5d525dc.wav</td>\n",
       "      <td>present</td>\n",
       "      <td>song</td>\n",
       "    </tr>\n",
       "  </tbody>\n",
       "</table>\n",
       "</div>"
      ],
      "text/plain": [
       "                               filename woodcock sound_type\n",
       "0  d4c40b6066b489518f8da83af1ee4984.wav  present       song\n",
       "1  e84a4b60a4f2d049d73162ee99a7ead8.wav   absent         na\n",
       "2  79678c979ebb880d5ed6d56f26ba69ff.wav  present       song\n",
       "3  49890077267b569e142440fa39b3041c.wav  present       song\n",
       "4  0c453a87185d8c7ce05c5c5ac5d525dc.wav  present       song"
      ]
     },
     "execution_count": 3,
     "metadata": {},
     "output_type": "execute_result"
    }
   ],
   "source": [
    "#load Specky output: a table of labeled audio files\n",
    "specky_table = pd.read_csv(Path(\"woodcock_labeled_data/woodcock_labels.csv\"))\n",
    "specky_table.head()"
   ]
  },
  {
   "cell_type": "code",
   "execution_count": 4,
   "id": "e1180e9e-4079-4ad3-aee5-3848fd15ad8d",
   "metadata": {},
   "outputs": [
    {
     "data": {
      "text/html": [
       "<div>\n",
       "<style scoped>\n",
       "    .dataframe tbody tr th:only-of-type {\n",
       "        vertical-align: middle;\n",
       "    }\n",
       "\n",
       "    .dataframe tbody tr th {\n",
       "        vertical-align: top;\n",
       "    }\n",
       "\n",
       "    .dataframe thead th {\n",
       "        text-align: right;\n",
       "    }\n",
       "</style>\n",
       "<table border=\"1\" class=\"dataframe\">\n",
       "  <thead>\n",
       "    <tr style=\"text-align: right;\">\n",
       "      <th></th>\n",
       "      <th>filename</th>\n",
       "      <th>woodcock</th>\n",
       "      <th>sound_type</th>\n",
       "    </tr>\n",
       "  </thead>\n",
       "  <tbody>\n",
       "    <tr>\n",
       "      <th>0</th>\n",
       "      <td>./woodcock_labeled_data/d4c40b6066b489518f8da8...</td>\n",
       "      <td>present</td>\n",
       "      <td>song</td>\n",
       "    </tr>\n",
       "    <tr>\n",
       "      <th>1</th>\n",
       "      <td>./woodcock_labeled_data/e84a4b60a4f2d049d73162...</td>\n",
       "      <td>absent</td>\n",
       "      <td>na</td>\n",
       "    </tr>\n",
       "    <tr>\n",
       "      <th>2</th>\n",
       "      <td>./woodcock_labeled_data/79678c979ebb880d5ed6d5...</td>\n",
       "      <td>present</td>\n",
       "      <td>song</td>\n",
       "    </tr>\n",
       "    <tr>\n",
       "      <th>3</th>\n",
       "      <td>./woodcock_labeled_data/49890077267b569e142440...</td>\n",
       "      <td>present</td>\n",
       "      <td>song</td>\n",
       "    </tr>\n",
       "    <tr>\n",
       "      <th>4</th>\n",
       "      <td>./woodcock_labeled_data/0c453a87185d8c7ce05c5c...</td>\n",
       "      <td>present</td>\n",
       "      <td>song</td>\n",
       "    </tr>\n",
       "  </tbody>\n",
       "</table>\n",
       "</div>"
      ],
      "text/plain": [
       "                                            filename woodcock sound_type\n",
       "0  ./woodcock_labeled_data/d4c40b6066b489518f8da8...  present       song\n",
       "1  ./woodcock_labeled_data/e84a4b60a4f2d049d73162...   absent         na\n",
       "2  ./woodcock_labeled_data/79678c979ebb880d5ed6d5...  present       song\n",
       "3  ./woodcock_labeled_data/49890077267b569e142440...  present       song\n",
       "4  ./woodcock_labeled_data/0c453a87185d8c7ce05c5c...  present       song"
      ]
     },
     "execution_count": 4,
     "metadata": {},
     "output_type": "execute_result"
    }
   ],
   "source": [
    "#update the paths to the audio files\n",
    "specky_table.filename = ['./woodcock_labeled_data/'+f for f in specky_table.filename]\n",
    "specky_table.head()"
   ]
  },
  {
   "cell_type": "code",
   "execution_count": 5,
   "id": "b3ec6c7f-a615-4272-96be-10db1b5bb0a9",
   "metadata": {},
   "outputs": [],
   "source": [
    "# create a new dataframe with the filenames from the previous table as the index\n",
    "labels = pd.DataFrame(index=specky_table['filename'])\n",
    "\n",
    "#convert 'present' to 1 and 'absent' to 0\n",
    "labels['woodcock']=[1 if l=='present' else 0 for l in specky_table['woodcock']]"
   ]
  },
  {
   "cell_type": "code",
   "execution_count": 6,
   "id": "0405c1a0-44fe-41cd-8929-2979191ad926",
   "metadata": {},
   "outputs": [],
   "source": [
    "from sklearn.model_selection import train_test_split\n",
    "train_df,validation_df = train_test_split(labels,test_size=0.2,random_state=1)"
   ]
  },
  {
   "cell_type": "code",
   "execution_count": 32,
   "id": "45703ea1-961f-4240-9a78-af71c1e50e33",
   "metadata": {},
   "outputs": [
    {
     "name": "stdout",
     "output_type": "stream",
     "text": [
      "\n",
      "Training Epoch 105\n",
      "Epoch: 105 [batch 0/3 (0.00%)] \n",
      "\tDistLoss: 0.681\n",
      "Metrics:\n",
      "Metrics:\n",
      "\tMAP: 0.853\n",
      "\n",
      "Validation.\n",
      "[]\n",
      "Metrics:\n",
      "\tMAP: 1.000\n",
      "\n",
      "Training Epoch 106\n",
      "Epoch: 106 [batch 0/3 (0.00%)] \n",
      "\tDistLoss: 0.526\n",
      "Metrics:\n",
      "Metrics:\n",
      "\tMAP: 0.927\n",
      "\n",
      "Validation.\n",
      "[]\n",
      "Metrics:\n",
      "\tMAP: 1.000\n",
      "\n",
      "Training Epoch 107\n",
      "Epoch: 107 [batch 0/3 (0.00%)] \n",
      "\tDistLoss: 0.488\n",
      "Metrics:\n",
      "Metrics:\n",
      "\tMAP: 0.860\n",
      "\n",
      "Validation.\n",
      "[]\n",
      "Metrics:\n",
      "\tMAP: 1.000\n",
      "\n",
      "Training Epoch 108\n",
      "Epoch: 108 [batch 0/3 (0.00%)] \n",
      "\tDistLoss: 0.399\n",
      "Metrics:\n",
      "Metrics:\n",
      "\tMAP: 0.946\n",
      "\n",
      "Validation.\n",
      "[]\n",
      "Metrics:\n",
      "\tMAP: 1.000\n",
      "\n",
      "Training Epoch 109\n",
      "Epoch: 109 [batch 0/3 (0.00%)] \n",
      "\tDistLoss: 0.448\n",
      "Metrics:\n",
      "Metrics:\n",
      "\tMAP: 0.956\n",
      "\n",
      "Validation.\n",
      "[]\n",
      "Metrics:\n",
      "\tMAP: 1.000\n",
      "\n",
      "Training Epoch 110\n",
      "Epoch: 110 [batch 0/3 (0.00%)] \n",
      "\tDistLoss: 0.494\n",
      "Metrics:\n",
      "Metrics:\n",
      "\tMAP: 0.910\n",
      "\n",
      "Validation.\n",
      "[]\n",
      "Metrics:\n",
      "\tMAP: 1.000\n",
      "\n",
      "Training Epoch 111\n",
      "Epoch: 111 [batch 0/3 (0.00%)] \n",
      "\tDistLoss: 0.425\n",
      "Metrics:\n",
      "Metrics:\n",
      "\tMAP: 0.899\n",
      "\n",
      "Validation.\n",
      "[]\n",
      "Metrics:\n",
      "\tMAP: 1.000\n",
      "\n",
      "Training Epoch 112\n",
      "Epoch: 112 [batch 0/3 (0.00%)] \n",
      "\tDistLoss: 0.332\n",
      "Metrics:\n",
      "Metrics:\n",
      "\tMAP: 0.875\n",
      "\n",
      "Validation.\n",
      "[]\n",
      "Metrics:\n",
      "\tMAP: 1.000\n",
      "\n",
      "Training Epoch 113\n",
      "Epoch: 113 [batch 0/3 (0.00%)] \n",
      "\tDistLoss: 0.414\n",
      "Metrics:\n",
      "Metrics:\n",
      "\tMAP: 0.942\n",
      "\n",
      "Validation.\n",
      "[]\n",
      "Metrics:\n",
      "\tMAP: 1.000\n",
      "\n",
      "Training Epoch 114\n",
      "Epoch: 114 [batch 0/3 (0.00%)] \n",
      "\tDistLoss: 0.468\n",
      "Metrics:\n",
      "Metrics:\n",
      "\tMAP: 0.813\n",
      "\n",
      "Validation.\n",
      "[]\n",
      "Metrics:\n",
      "\tMAP: 1.000\n",
      "\n",
      "Training Epoch 115\n",
      "Epoch: 115 [batch 0/3 (0.00%)] \n",
      "\tDistLoss: 0.386\n",
      "Metrics:\n",
      "Metrics:\n",
      "\tMAP: 0.910\n",
      "\n",
      "Validation.\n",
      "[]\n",
      "Metrics:\n",
      "\tMAP: 1.000\n",
      "\n",
      "Training Epoch 116\n",
      "Epoch: 116 [batch 0/3 (0.00%)] \n",
      "\tDistLoss: 0.618\n",
      "Metrics:\n",
      "Metrics:\n",
      "\tMAP: 0.901\n",
      "\n",
      "Validation.\n",
      "[]\n",
      "Metrics:\n",
      "\tMAP: 1.000\n",
      "\n",
      "Training Epoch 117\n",
      "Epoch: 117 [batch 0/3 (0.00%)] \n",
      "\tDistLoss: 0.313\n",
      "Metrics:\n",
      "Metrics:\n",
      "\tMAP: 0.976\n",
      "\n",
      "Validation.\n",
      "[]\n",
      "Metrics:\n",
      "\tMAP: 1.000\n",
      "\n",
      "Training Epoch 118\n",
      "Epoch: 118 [batch 0/3 (0.00%)] \n",
      "\tDistLoss: 0.286\n",
      "Metrics:\n",
      "Metrics:\n",
      "\tMAP: 0.913\n",
      "\n",
      "Validation.\n",
      "[]\n",
      "Metrics:\n",
      "\tMAP: 1.000\n",
      "\n",
      "Training Epoch 119\n",
      "Epoch: 119 [batch 0/3 (0.00%)] \n",
      "\tDistLoss: 0.543\n",
      "Metrics:\n",
      "Metrics:\n",
      "\tMAP: 0.908\n",
      "\n",
      "Validation.\n",
      "[]\n",
      "Metrics:\n",
      "\tMAP: 1.000\n",
      "\n",
      "Best Model Appears at Epoch 105 with Validation score 1.000.\n"
     ]
    }
   ],
   "source": [
    "from opensoundscape.torch.models.cnn import load_model\n",
    "import os\n",
    "\n",
    "# Define constants\n",
    "SAMPLE_DURATION = 10.0\n",
    "NUM_EPOCHS = 15\n",
    "BATCH_SIZE = 10\n",
    "SAVE_INTERVAL = 150\n",
    "\n",
    "# Specify paths\n",
    "model_path = './bird_training/best.model'\n",
    "save_path = './bird_training/'\n",
    "\n",
    "# Create model object\n",
    "classes = train_df.columns #in this case, there's just one class: [\"woodcock\"]\n",
    "\n",
    "if os.path.exists(model_path):\n",
    "    model = load_model(model_path)\n",
    "else:\n",
    "    model = CNN('resnet18', classes=classes, sample_duration=SAMPLE_DURATION)\n",
    "\n",
    "model.train(\n",
    "    train_df=train_df,\n",
    "    validation_df=validation_df,\n",
    "    save_path=save_path,\n",
    "    epochs=NUM_EPOCHS,\n",
    "    batch_size=BATCH_SIZE,\n",
    "    save_interval=SAVE_INTERVAL,\n",
    "    num_workers=0, #specify 4 if you have 4 CPU processes, eg; 0 means only the root process\n",
    ")\n",
    "\n",
    "model.save(model_path)\n",
    "model = load_model(model_path)\n"
   ]
  },
  {
   "cell_type": "code",
   "execution_count": 26,
   "id": "c481f621-03c9-4dbc-82f6-61512e063810",
   "metadata": {},
   "outputs": [
    {
     "data": {
      "text/plain": [
       "Text(0, 0.5, 'loss')"
      ]
     },
     "execution_count": 26,
     "metadata": {},
     "output_type": "execute_result"
    },
    {
     "data": {
      "image/png": "[encoded data removed]",
      "text/plain": [
       "<Figure size 1500x500 with 1 Axes>"
      ]
     },
     "metadata": {
      "image/png": {
       "height": 448,
       "width": 1242
      }
     },
     "output_type": "display_data"
    }
   ],
   "source": [
    "plt.scatter(model.loss_hist.keys(),model.loss_hist.values())\n",
    "plt.xlabel('epoch')\n",
    "plt.ylabel('loss')"
   ]
  },
  {
   "cell_type": "code",
   "execution_count": 27,
   "id": "3f437fd5-9d9a-4bda-8439-d5f2dc47c7d9",
   "metadata": {},
   "outputs": [
    {
     "data": {
      "text/plain": [
       "['./20220601_053000.WAV',\n",
       " './20220601_063000.WAV',\n",
       " './20220601_083000.WAV',\n",
       " './20220601_073000.WAV']"
      ]
     },
     "execution_count": 27,
     "metadata": {},
     "output_type": "execute_result"
    }
   ],
   "source": [
    "from glob import glob\n",
    "field_recordings = glob('./*.WAV')\n",
    "field_recordings"
   ]
  },
  {
   "cell_type": "code",
   "execution_count": 28,
   "id": "0f942a73-6d64-4c60-90a3-5f7b8e1f2c9f",
   "metadata": {},
   "outputs": [
    {
     "name": "stdout",
     "output_type": "stream",
     "text": [
      "[]\n"
     ]
    }
   ],
   "source": [
    "#WORKING FOR OVERALL\n",
    "import os\n",
    "\n",
    "#write to csv\n",
    "# Predict on audio files\n",
    "valid_scores = model.predict(\n",
    "    field_recordings,\n",
    "    activation_layer='sigmoid',\n",
    "    split_files_into_clips=False\n",
    "    #idk what the difference is between True or False here ^\n",
    ")\n",
    "\n",
    "# Extract the DataFrame from the tuple and remove unnecessary elements\n",
    "scores_df = valid_scores[0]\n",
    "scores_df.index = [os.path.basename(f) for f in field_recordings]\n",
    "\n",
    "# Add a new column 'Presence' based on the value of 'woodcock' column\n",
    "scores_df['Presence'] = ['Present' if score > 0.9 else 'Absent' for score in scores_df['woodcock']]\n",
    "\n",
    "# Save the DataFrame to a CSV file\n",
    "scores_df.to_csv('copyWoodcock.csv')"
   ]
  },
  {
   "cell_type": "code",
   "execution_count": 31,
   "id": "906af894-1e2f-4c9a-90ec-5543471d3b94",
   "metadata": {},
   "outputs": [
    {
     "name": "stdout",
     "output_type": "stream",
     "text": [
      "[]\n"
     ]
    }
   ],
   "source": [
    "#all with overlap\n",
    "import os\n",
    "# import Audio and Spectrogram classes from OpenSoundscape\n",
    "from opensoundscape.audio import Audio\n",
    "from opensoundscape.spectrogram import Spectrogram\n",
    "\n",
    "\n",
    "\n",
    "#predict method returns a LIST of dataframes, so in this case, prediction_scores_df is list of one dataframe\n",
    "prediction_scores_df = model.predict(field_recordings, activation_layer='sigmoid', overlap_fraction = .5)\n",
    "\n",
    "\n",
    "\n",
    "# Add a new column 'Presence' based on the value of 'woodcock' column\n",
    "prediction_scores_df[0]['Presence'] = ['Present' if float(score) > 0.9 else '' for score in prediction_scores_df[0]['woodcock']]\n",
    "\n",
    "\n",
    "\n",
    "prediction_scores_df[0].to_csv(\"copy_withOverlap.csv\")"
   ]
  },
  {
   "cell_type": "code",
   "execution_count": null,
   "id": "88c934ef-39ea-477d-a537-45f0358c35f4",
   "metadata": {},
   "outputs": [],
   "source": []
  }
 ],
 "metadata": {
  "kernelspec": {
   "display_name": "OpenSoundscape",
   "language": "python",
   "name": "kitzes"
  },
  "language_info": {
   "codemirror_mode": {
    "name": "ipython",
    "version": 3
   },
   "file_extension": ".py",
   "mimetype": "text/x-python",
   "name": "python",
   "nbconvert_exporter": "python",
   "pygments_lexer": "ipython3",
   "version": "3.8.10"
  }
 },
 "nbformat": 4,
 "nbformat_minor": 5
}
