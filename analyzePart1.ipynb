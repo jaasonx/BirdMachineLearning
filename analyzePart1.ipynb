{
 "cells": [
  {
   "cell_type": "code",
   "execution_count": 10,
   "id": "a367db7c-63a7-48f9-91cd-84e1b60e73d4",
   "metadata": {},
   "outputs": [],
   "source": [
    "from pathlib import Path"
   ]
  },
  {
   "cell_type": "code",
   "execution_count": 11,
   "id": "b0357fbf-3908-412e-b292-1490cf35e66c",
   "metadata": {},
   "outputs": [],
   "source": [
    "image_shape = (224, 224) #(height, width) not (width, height)\n",
    "image_save_path = Path('./saved_spectrogram.png')"
   ]
  },
  {
   "cell_type": "code",
   "execution_count": 12,
   "id": "dde0d6a9-6877-495e-90fa-fcf9826840ae",
   "metadata": {},
   "outputs": [],
   "source": [
    "audio_filename = '/root/bird/kitzes/20220601_053000.WAV'\n"
   ]
  },
  {
   "cell_type": "code",
   "execution_count": 13,
   "id": "1b57cf79-78bd-45d3-9813-5a87c6dcd878",
   "metadata": {},
   "outputs": [
    {
     "name": "stdout",
     "output_type": "stream",
     "text": [
      "File directory: /root/bird/kitzes\n"
     ]
    }
   ],
   "source": [
    "import os\n",
    "\n",
    "# Define the path to your file\n",
    "file_path = '/root/bird/kitzes/20220601_053000.wav'\n",
    "\n",
    "# Get the directory of the file\n",
    "file_directory = os.path.dirname(file_path)\n",
    "\n",
    "# Print the file directory\n",
    "print(\"File directory:\", file_directory)\n"
   ]
  },
  {
   "cell_type": "code",
   "execution_count": 14,
   "id": "16f540f3-dd82-4db5-9e08-25661f259fd8",
   "metadata": {},
   "outputs": [],
   "source": [
    "# import Audio and Spectrogram classes from OpenSoundscape\n",
    "from opensoundscape.audio import Audio\n",
    "from opensoundscape.spectrogram import Spectrogram"
   ]
  },
  {
   "cell_type": "code",
   "execution_count": 15,
   "id": "35a3156c-d6fb-49fc-a989-cf53fd84afd5",
   "metadata": {},
   "outputs": [
    {
     "name": "stderr",
     "output_type": "stream",
     "text": [
      "/home/jaasun/anaconda3/envs/opensoundscape/lib/python3.9/site-packages/opensoundscape/audio.py:1162: UserWarning: Failed to load metadata: argument of type 'NoneType' is not iterable. Metadata will be None\n",
      "  warnings.warn(f\"Failed to load metadata: {exc}. Metadata will be None\")\n"
     ]
    },
    {
     "ename": "PermissionError",
     "evalue": "[Errno 13] Permission denied: '/root/bird/kitzes/20220601_053000.WAV'",
     "output_type": "error",
     "traceback": [
      "\u001b[0;31m---------------------------------------------------------------------------\u001b[0m",
      "\u001b[0;31mLibsndfileError\u001b[0m                           Traceback (most recent call last)",
      "File \u001b[0;32m~/anaconda3/envs/opensoundscape/lib/python3.9/site-packages/librosa/core/audio.py:176\u001b[0m, in \u001b[0;36mload\u001b[0;34m(path, sr, mono, offset, duration, dtype, res_type)\u001b[0m\n\u001b[1;32m    175\u001b[0m \u001b[39mtry\u001b[39;00m:\n\u001b[0;32m--> 176\u001b[0m     y, sr_native \u001b[39m=\u001b[39m __soundfile_load(path, offset, duration, dtype)\n\u001b[1;32m    178\u001b[0m \u001b[39mexcept\u001b[39;00m sf\u001b[39m.\u001b[39mSoundFileRuntimeError \u001b[39mas\u001b[39;00m exc:\n\u001b[1;32m    179\u001b[0m     \u001b[39m# If soundfile failed, try audioread instead\u001b[39;00m\n",
      "File \u001b[0;32m~/anaconda3/envs/opensoundscape/lib/python3.9/site-packages/librosa/core/audio.py:209\u001b[0m, in \u001b[0;36m__soundfile_load\u001b[0;34m(path, offset, duration, dtype)\u001b[0m\n\u001b[1;32m    207\u001b[0m \u001b[39melse\u001b[39;00m:\n\u001b[1;32m    208\u001b[0m     \u001b[39m# Otherwise, create the soundfile object\u001b[39;00m\n\u001b[0;32m--> 209\u001b[0m     context \u001b[39m=\u001b[39m sf\u001b[39m.\u001b[39;49mSoundFile(path)\n\u001b[1;32m    211\u001b[0m \u001b[39mwith\u001b[39;00m context \u001b[39mas\u001b[39;00m sf_desc:\n",
      "File \u001b[0;32m~/anaconda3/envs/opensoundscape/lib/python3.9/site-packages/soundfile.py:658\u001b[0m, in \u001b[0;36mSoundFile.__init__\u001b[0;34m(self, file, mode, samplerate, channels, subtype, endian, format, closefd)\u001b[0m\n\u001b[1;32m    656\u001b[0m \u001b[39mself\u001b[39m\u001b[39m.\u001b[39m_info \u001b[39m=\u001b[39m _create_info_struct(file, mode, samplerate, channels,\n\u001b[1;32m    657\u001b[0m                                  \u001b[39mformat\u001b[39m, subtype, endian)\n\u001b[0;32m--> 658\u001b[0m \u001b[39mself\u001b[39m\u001b[39m.\u001b[39m_file \u001b[39m=\u001b[39m \u001b[39mself\u001b[39;49m\u001b[39m.\u001b[39;49m_open(file, mode_int, closefd)\n\u001b[1;32m    659\u001b[0m \u001b[39mif\u001b[39;00m \u001b[39mset\u001b[39m(mode)\u001b[39m.\u001b[39missuperset(\u001b[39m'\u001b[39m\u001b[39mr+\u001b[39m\u001b[39m'\u001b[39m) \u001b[39mand\u001b[39;00m \u001b[39mself\u001b[39m\u001b[39m.\u001b[39mseekable():\n\u001b[1;32m    660\u001b[0m     \u001b[39m# Move write position to 0 (like in Python file objects)\u001b[39;00m\n",
      "File \u001b[0;32m~/anaconda3/envs/opensoundscape/lib/python3.9/site-packages/soundfile.py:1216\u001b[0m, in \u001b[0;36mSoundFile._open\u001b[0;34m(self, file, mode_int, closefd)\u001b[0m\n\u001b[1;32m   1215\u001b[0m     err \u001b[39m=\u001b[39m _snd\u001b[39m.\u001b[39msf_error(file_ptr)\n\u001b[0;32m-> 1216\u001b[0m     \u001b[39mraise\u001b[39;00m LibsndfileError(err, prefix\u001b[39m=\u001b[39m\u001b[39m\"\u001b[39m\u001b[39mError opening \u001b[39m\u001b[39m{0!r}\u001b[39;00m\u001b[39m: \u001b[39m\u001b[39m\"\u001b[39m\u001b[39m.\u001b[39mformat(\u001b[39mself\u001b[39m\u001b[39m.\u001b[39mname))\n\u001b[1;32m   1217\u001b[0m \u001b[39mif\u001b[39;00m mode_int \u001b[39m==\u001b[39m _snd\u001b[39m.\u001b[39mSFM_WRITE:\n\u001b[1;32m   1218\u001b[0m     \u001b[39m# Due to a bug in libsndfile version <= 1.0.25, frames != 0\u001b[39;00m\n\u001b[1;32m   1219\u001b[0m     \u001b[39m# when opening a named pipe in SFM_WRITE mode.\u001b[39;00m\n\u001b[1;32m   1220\u001b[0m     \u001b[39m# See http://github.com/erikd/libsndfile/issues/77.\u001b[39;00m\n",
      "\u001b[0;31mLibsndfileError\u001b[0m: Error opening '/root/bird/kitzes/20220601_053000.WAV': System error.",
      "\nDuring handling of the above exception, another exception occurred:\n",
      "\u001b[0;31mPermissionError\u001b[0m                           Traceback (most recent call last)",
      "Cell \u001b[0;32mIn[15], line 1\u001b[0m\n\u001b[0;32m----> 1\u001b[0m audio_object \u001b[39m=\u001b[39m Audio\u001b[39m.\u001b[39;49mfrom_file(audio_filename)\n",
      "File \u001b[0;32m~/anaconda3/envs/opensoundscape/lib/python3.9/site-packages/opensoundscape/audio.py:283\u001b[0m, in \u001b[0;36mAudio.from_file\u001b[0;34m(cls, path, sample_rate, resample_type, dtype, load_metadata, offset, duration, start_timestamp, out_of_bounds_mode)\u001b[0m\n\u001b[1;32m    281\u001b[0m \u001b[39m## Load samples ##\u001b[39;00m\n\u001b[1;32m    282\u001b[0m warnings\u001b[39m.\u001b[39mfilterwarnings(\u001b[39m\"\u001b[39m\u001b[39mignore\u001b[39m\u001b[39m\"\u001b[39m)\n\u001b[0;32m--> 283\u001b[0m samples, sr \u001b[39m=\u001b[39m librosa\u001b[39m.\u001b[39;49mload(\n\u001b[1;32m    284\u001b[0m     path,\n\u001b[1;32m    285\u001b[0m     sr\u001b[39m=\u001b[39;49msample_rate,\n\u001b[1;32m    286\u001b[0m     res_type\u001b[39m=\u001b[39;49mresample_type,\n\u001b[1;32m    287\u001b[0m     mono\u001b[39m=\u001b[39;49m\u001b[39mTrue\u001b[39;49;00m,\n\u001b[1;32m    288\u001b[0m     offset\u001b[39m=\u001b[39;49moffset,\n\u001b[1;32m    289\u001b[0m     duration\u001b[39m=\u001b[39;49mduration,\n\u001b[1;32m    290\u001b[0m     dtype\u001b[39m=\u001b[39;49m\u001b[39mNone\u001b[39;49;00m,\n\u001b[1;32m    291\u001b[0m )\n\u001b[1;32m    292\u001b[0m \u001b[39m# temporary workaround for soundfile issue #349\u001b[39;00m\n\u001b[1;32m    293\u001b[0m \u001b[39m# which causes empty sample array if loading float32 from mp3:\u001b[39;00m\n\u001b[1;32m    294\u001b[0m \u001b[39m# pass dtype=None, then change it afterwards\u001b[39;00m\n\u001b[1;32m    295\u001b[0m samples \u001b[39m=\u001b[39m samples\u001b[39m.\u001b[39mastype(dtype)\n",
      "File \u001b[0;32m~/anaconda3/envs/opensoundscape/lib/python3.9/site-packages/librosa/core/audio.py:184\u001b[0m, in \u001b[0;36mload\u001b[0;34m(path, sr, mono, offset, duration, dtype, res_type)\u001b[0m\n\u001b[1;32m    180\u001b[0m \u001b[39mif\u001b[39;00m \u001b[39misinstance\u001b[39m(path, (\u001b[39mstr\u001b[39m, pathlib\u001b[39m.\u001b[39mPurePath)):\n\u001b[1;32m    181\u001b[0m     warnings\u001b[39m.\u001b[39mwarn(\n\u001b[1;32m    182\u001b[0m         \u001b[39m\"\u001b[39m\u001b[39mPySoundFile failed. Trying audioread instead.\u001b[39m\u001b[39m\"\u001b[39m, stacklevel\u001b[39m=\u001b[39m\u001b[39m2\u001b[39m\n\u001b[1;32m    183\u001b[0m     )\n\u001b[0;32m--> 184\u001b[0m     y, sr_native \u001b[39m=\u001b[39m __audioread_load(path, offset, duration, dtype)\n\u001b[1;32m    185\u001b[0m \u001b[39melse\u001b[39;00m:\n\u001b[1;32m    186\u001b[0m     \u001b[39mraise\u001b[39;00m exc\n",
      "File \u001b[0;32m~/anaconda3/envs/opensoundscape/lib/python3.9/site-packages/decorator.py:232\u001b[0m, in \u001b[0;36mdecorate.<locals>.fun\u001b[0;34m(*args, **kw)\u001b[0m\n\u001b[1;32m    230\u001b[0m \u001b[39mif\u001b[39;00m \u001b[39mnot\u001b[39;00m kwsyntax:\n\u001b[1;32m    231\u001b[0m     args, kw \u001b[39m=\u001b[39m fix(args, kw, sig)\n\u001b[0;32m--> 232\u001b[0m \u001b[39mreturn\u001b[39;00m caller(func, \u001b[39m*\u001b[39;49m(extras \u001b[39m+\u001b[39;49m args), \u001b[39m*\u001b[39;49m\u001b[39m*\u001b[39;49mkw)\n",
      "File \u001b[0;32m~/anaconda3/envs/opensoundscape/lib/python3.9/site-packages/librosa/util/decorators.py:60\u001b[0m, in \u001b[0;36mdeprecated.<locals>.__wrapper\u001b[0;34m(func, *args, **kwargs)\u001b[0m\n\u001b[1;32m     51\u001b[0m \u001b[39m\u001b[39m\u001b[39m\"\"\"Warn the user, and then proceed.\"\"\"\u001b[39;00m\n\u001b[1;32m     52\u001b[0m warnings\u001b[39m.\u001b[39mwarn(\n\u001b[1;32m     53\u001b[0m     \u001b[39m\"\u001b[39m\u001b[39m{:s}\u001b[39;00m\u001b[39m.\u001b[39m\u001b[39m{:s}\u001b[39;00m\u001b[39m\\n\u001b[39;00m\u001b[39m\\t\u001b[39;00m\u001b[39mDeprecated as of librosa version \u001b[39m\u001b[39m{:s}\u001b[39;00m\u001b[39m.\u001b[39m\u001b[39m\"\u001b[39m\n\u001b[1;32m     54\u001b[0m     \u001b[39m\"\u001b[39m\u001b[39m\\n\u001b[39;00m\u001b[39m\\t\u001b[39;00m\u001b[39mIt will be removed in librosa version \u001b[39m\u001b[39m{:s}\u001b[39;00m\u001b[39m.\u001b[39m\u001b[39m\"\u001b[39m\u001b[39m.\u001b[39mformat(\n\u001b[0;32m   (...)\u001b[0m\n\u001b[1;32m     58\u001b[0m     stacklevel\u001b[39m=\u001b[39m\u001b[39m3\u001b[39m,  \u001b[39m# Would be 2, but the decorator adds a level\u001b[39;00m\n\u001b[1;32m     59\u001b[0m )\n\u001b[0;32m---> 60\u001b[0m \u001b[39mreturn\u001b[39;00m func(\u001b[39m*\u001b[39;49margs, \u001b[39m*\u001b[39;49m\u001b[39m*\u001b[39;49mkwargs)\n",
      "File \u001b[0;32m~/anaconda3/envs/opensoundscape/lib/python3.9/site-packages/librosa/core/audio.py:241\u001b[0m, in \u001b[0;36m__audioread_load\u001b[0;34m(path, offset, duration, dtype)\u001b[0m\n\u001b[1;32m    238\u001b[0m     reader \u001b[39m=\u001b[39m path\n\u001b[1;32m    239\u001b[0m \u001b[39melse\u001b[39;00m:\n\u001b[1;32m    240\u001b[0m     \u001b[39m# If the input was not an audioread object, try to open it\u001b[39;00m\n\u001b[0;32m--> 241\u001b[0m     reader \u001b[39m=\u001b[39m audioread\u001b[39m.\u001b[39;49maudio_open(path)\n\u001b[1;32m    243\u001b[0m \u001b[39mwith\u001b[39;00m reader \u001b[39mas\u001b[39;00m input_file:\n\u001b[1;32m    244\u001b[0m     sr_native \u001b[39m=\u001b[39m input_file\u001b[39m.\u001b[39msamplerate\n",
      "File \u001b[0;32m~/anaconda3/envs/opensoundscape/lib/python3.9/site-packages/audioread/__init__.py:127\u001b[0m, in \u001b[0;36maudio_open\u001b[0;34m(path, backends)\u001b[0m\n\u001b[1;32m    125\u001b[0m \u001b[39mfor\u001b[39;00m BackendClass \u001b[39min\u001b[39;00m backends:\n\u001b[1;32m    126\u001b[0m     \u001b[39mtry\u001b[39;00m:\n\u001b[0;32m--> 127\u001b[0m         \u001b[39mreturn\u001b[39;00m BackendClass(path)\n\u001b[1;32m    128\u001b[0m     \u001b[39mexcept\u001b[39;00m DecodeError:\n\u001b[1;32m    129\u001b[0m         \u001b[39mpass\u001b[39;00m\n",
      "File \u001b[0;32m~/anaconda3/envs/opensoundscape/lib/python3.9/site-packages/audioread/rawread.py:59\u001b[0m, in \u001b[0;36mRawAudioFile.__init__\u001b[0;34m(self, filename)\u001b[0m\n\u001b[1;32m     58\u001b[0m \u001b[39mdef\u001b[39;00m \u001b[39m__init__\u001b[39m(\u001b[39mself\u001b[39m, filename):\n\u001b[0;32m---> 59\u001b[0m     \u001b[39mself\u001b[39m\u001b[39m.\u001b[39m_fh \u001b[39m=\u001b[39m \u001b[39mopen\u001b[39;49m(filename, \u001b[39m'\u001b[39;49m\u001b[39mrb\u001b[39;49m\u001b[39m'\u001b[39;49m)\n\u001b[1;32m     61\u001b[0m     \u001b[39mtry\u001b[39;00m:\n\u001b[1;32m     62\u001b[0m         \u001b[39mself\u001b[39m\u001b[39m.\u001b[39m_file \u001b[39m=\u001b[39m aifc\u001b[39m.\u001b[39mopen(\u001b[39mself\u001b[39m\u001b[39m.\u001b[39m_fh)\n",
      "\u001b[0;31mPermissionError\u001b[0m: [Errno 13] Permission denied: '/root/bird/kitzes/20220601_053000.WAV'"
     ]
    }
   ],
   "source": [
    "audio_object = Audio.from_file(audio_filename)"
   ]
  },
  {
   "cell_type": "code",
   "execution_count": null,
   "id": "79601c79-205a-41be-8b2a-8e7725e9d86a",
   "metadata": {},
   "outputs": [
    {
     "name": "stdout",
     "output_type": "stream",
     "text": [
      "How many samples does this audio object have? 86400000\n",
      "What is the sampling rate? 48000\n"
     ]
    }
   ],
   "source": [
    "print(f\"How many samples does this audio object have? {len(audio_object.samples)}\")\n",
    "print(f\"What is the sampling rate? {audio_object.sample_rate}\")"
   ]
  },
  {
   "cell_type": "code",
   "execution_count": null,
   "id": "1125a208-be4b-4b0f-8b33-08cc4398fb3a",
   "metadata": {},
   "outputs": [
    {
     "data": {
      "image/png": "[encoded data removed]",
      "text/plain": [
       "<Figure size 640x480 with 1 Axes>"
      ]
     },
     "metadata": {},
     "output_type": "display_data"
    }
   ],
   "source": [
    "import matplotlib.pyplot as plt\n",
    "plt.plot(audio_object.samples)\n",
    "plt.show()"
   ]
  },
  {
   "cell_type": "code",
   "execution_count": 16,
   "id": "b16499ca-2b61-492d-9bf4-40d40b87331c",
   "metadata": {},
   "outputs": [
    {
     "ename": "NameError",
     "evalue": "name 'audio_object' is not defined",
     "output_type": "error",
     "traceback": [
      "\u001b[0;31m---------------------------------------------------------------------------\u001b[0m",
      "\u001b[0;31mNameError\u001b[0m                                 Traceback (most recent call last)",
      "Cell \u001b[0;32mIn[16], line 2\u001b[0m\n\u001b[1;32m      1\u001b[0m \u001b[39mimport\u001b[39;00m \u001b[39mmatplotlib\u001b[39;00m\u001b[39m.\u001b[39;00m\u001b[39mpyplot\u001b[39;00m \u001b[39mas\u001b[39;00m \u001b[39mplt\u001b[39;00m\n\u001b[0;32m----> 2\u001b[0m plt\u001b[39m.\u001b[39mplot(audio_object\u001b[39m.\u001b[39msamples)\n\u001b[1;32m      3\u001b[0m plt\u001b[39m.\u001b[39mshow()\n",
      "\u001b[0;31mNameError\u001b[0m: name 'audio_object' is not defined"
     ]
    }
   ],
   "source": [
    "import matplotlib.pyplot as plt\n",
    "plt.plot(audio_object.samples)\n",
    "plt.show()\n"
   ]
  },
  {
   "cell_type": "code",
   "execution_count": null,
   "id": "aa1ef124-97f3-488e-8a51-0163cba8b638",
   "metadata": {},
   "outputs": [],
   "source": [
    "spectrogram_image = spectrogram_object.to_image()\n",
    "image_path = Path('./saved_spectrogram.png')\n",
    "spectrogram_image.save(image_path)"
   ]
  },
  {
   "cell_type": "code",
   "execution_count": null,
   "id": "25d8e9e3-7150-4914-a6bb-3a79b733c346",
   "metadata": {},
   "outputs": [],
   "source": [
    "#delete the saved image\n",
    "image_path.unlink()"
   ]
  },
  {
   "cell_type": "code",
   "execution_count": null,
   "id": "0cfc3a08-4bbb-4f96-a621-918b67c9c763",
   "metadata": {},
   "outputs": [
    {
     "name": "stderr",
     "output_type": "stream",
     "text": [
      "/home/jaasun/anaconda3/envs/opensoundscape/lib/python3.9/site-packages/opensoundscape/torch/datasets.py:94: UserWarning: Zero samples!\n",
      "  warnings.warn(\"Zero samples!\")\n"
     ]
    },
    {
     "ename": "AssertionError",
     "evalue": "files list has length zero!",
     "output_type": "error",
     "traceback": [
      "\u001b[0;31m---------------------------------------------------------------------------\u001b[0m",
      "\u001b[0;31mAssertionError\u001b[0m                            Traceback (most recent call last)",
      "Cell \u001b[0;32mIn[8], line 29\u001b[0m\n\u001b[1;32m     26\u001b[0m audio_files \u001b[39m=\u001b[39m glob(\u001b[39m'\u001b[39m\u001b[39m./*.WAV\u001b[39m\u001b[39m'\u001b[39m)\n\u001b[1;32m     28\u001b[0m \u001b[39m# Predict on audio files\u001b[39;00m\n\u001b[0;32m---> 29\u001b[0m scores \u001b[39m=\u001b[39m model\u001b[39m.\u001b[39;49mpredict(\n\u001b[1;32m     30\u001b[0m     audio_files,\n\u001b[1;32m     31\u001b[0m     activation_layer\u001b[39m=\u001b[39;49m\u001b[39m'\u001b[39;49m\u001b[39msoftmax\u001b[39;49m\u001b[39m'\u001b[39;49m,\n\u001b[1;32m     32\u001b[0m )\n\u001b[1;32m     34\u001b[0m \u001b[39mprint\u001b[39m(scores)\n",
      "File \u001b[0;32m~/anaconda3/envs/opensoundscape/lib/python3.9/site-packages/opensoundscape/torch/models/cnn.py:870\u001b[0m, in \u001b[0;36mCNN.predict\u001b[0;34m(self, samples, batch_size, num_workers, activation_layer, split_files_into_clips, overlap_fraction, final_clip, bypass_augmentations, invalid_samples_log, raise_errors, wandb_session, return_invalid_samples)\u001b[0m\n\u001b[1;32m    866\u001b[0m     prediction_dataset \u001b[39m=\u001b[39m AudioFileDataset(\n\u001b[1;32m    867\u001b[0m         samples\u001b[39m=\u001b[39msamples, preprocessor\u001b[39m=\u001b[39m\u001b[39mself\u001b[39m\u001b[39m.\u001b[39mpreprocessor, return_labels\u001b[39m=\u001b[39m\u001b[39mFalse\u001b[39;00m\n\u001b[1;32m    868\u001b[0m     )\n\u001b[1;32m    869\u001b[0m \u001b[39melif\u001b[39;00m split_files_into_clips:  \u001b[39m# c2\u001b[39;00m\n\u001b[0;32m--> 870\u001b[0m     prediction_dataset \u001b[39m=\u001b[39m AudioSplittingDataset(\n\u001b[1;32m    871\u001b[0m         samples\u001b[39m=\u001b[39;49msamples,\n\u001b[1;32m    872\u001b[0m         preprocessor\u001b[39m=\u001b[39;49m\u001b[39mself\u001b[39;49m\u001b[39m.\u001b[39;49mpreprocessor,\n\u001b[1;32m    873\u001b[0m         overlap_fraction\u001b[39m=\u001b[39;49moverlap_fraction,\n\u001b[1;32m    874\u001b[0m         final_clip\u001b[39m=\u001b[39;49mfinal_clip,\n\u001b[1;32m    875\u001b[0m     )\n\u001b[1;32m    876\u001b[0m \u001b[39melse\u001b[39;00m:  \u001b[39m# c3\u001b[39;00m\n\u001b[1;32m    877\u001b[0m     prediction_dataset \u001b[39m=\u001b[39m AudioFileDataset(\n\u001b[1;32m    878\u001b[0m         samples\u001b[39m=\u001b[39msamples, preprocessor\u001b[39m=\u001b[39m\u001b[39mself\u001b[39m\u001b[39m.\u001b[39mpreprocessor, return_labels\u001b[39m=\u001b[39m\u001b[39mFalse\u001b[39;00m\n\u001b[1;32m    879\u001b[0m     )\n",
      "File \u001b[0;32m~/anaconda3/envs/opensoundscape/lib/python3.9/site-packages/opensoundscape/torch/datasets.py:189\u001b[0m, in \u001b[0;36mAudioSplittingDataset.__init__\u001b[0;34m(self, samples, preprocessor, overlap_fraction, final_clip)\u001b[0m\n\u001b[1;32m    184\u001b[0m \u001b[39mself\u001b[39m\u001b[39m.\u001b[39mhas_clips \u001b[39m=\u001b[39m \u001b[39mTrue\u001b[39;00m\n\u001b[1;32m    186\u001b[0m \u001b[39m# create clip df\u001b[39;00m\n\u001b[1;32m    187\u001b[0m \u001b[39m# self.label_df will have multi-index (file,start_time,end_time)\u001b[39;00m\n\u001b[1;32m    188\u001b[0m \u001b[39m# can contain rows with start/end time np.nan for failed samples\u001b[39;00m\n\u001b[0;32m--> 189\u001b[0m \u001b[39mself\u001b[39m\u001b[39m.\u001b[39mlabel_df, \u001b[39mself\u001b[39m\u001b[39m.\u001b[39minvalid_samples \u001b[39m=\u001b[39m make_clip_df(\n\u001b[1;32m    190\u001b[0m     files\u001b[39m=\u001b[39;49msamples,\n\u001b[1;32m    191\u001b[0m     clip_duration\u001b[39m=\u001b[39;49mpreprocessor\u001b[39m.\u001b[39;49msample_duration,\n\u001b[1;32m    192\u001b[0m     clip_overlap\u001b[39m=\u001b[39;49moverlap_fraction \u001b[39m*\u001b[39;49m preprocessor\u001b[39m.\u001b[39;49msample_duration,\n\u001b[1;32m    193\u001b[0m     final_clip\u001b[39m=\u001b[39;49mfinal_clip,\n\u001b[1;32m    194\u001b[0m     return_invalid_samples\u001b[39m=\u001b[39;49m\u001b[39mTrue\u001b[39;49;00m,\n\u001b[1;32m    195\u001b[0m )\n",
      "File \u001b[0;32m~/anaconda3/envs/opensoundscape/lib/python3.9/site-packages/opensoundscape/helpers.py:302\u001b[0m, in \u001b[0;36mmake_clip_df\u001b[0;34m(files, clip_duration, clip_overlap, final_clip, return_invalid_samples)\u001b[0m\n\u001b[1;32m    296\u001b[0m     \u001b[39massert\u001b[39;00m \u001b[39mhasattr\u001b[39m(files, \u001b[39m\"\u001b[39m\u001b[39m__iter__\u001b[39m\u001b[39m\"\u001b[39m), (\n\u001b[1;32m    297\u001b[0m         \u001b[39mf\u001b[39m\u001b[39m\"\u001b[39m\u001b[39m`files` should be a dataframe with paths as \u001b[39m\u001b[39m\"\u001b[39m\n\u001b[1;32m    298\u001b[0m         \u001b[39mf\u001b[39m\u001b[39m\"\u001b[39m\u001b[39mthe index, or an iterable of file paths. Got \u001b[39m\u001b[39m{\u001b[39;00m\u001b[39mtype\u001b[39m(files)\u001b[39m}\u001b[39;00m\u001b[39m.\u001b[39m\u001b[39m\"\u001b[39m\n\u001b[1;32m    299\u001b[0m     )\n\u001b[1;32m    300\u001b[0m     file_list \u001b[39m=\u001b[39m files\n\u001b[0;32m--> 302\u001b[0m \u001b[39massert\u001b[39;00m \u001b[39mlen\u001b[39m(files) \u001b[39m>\u001b[39m \u001b[39m0\u001b[39m, \u001b[39m\"\u001b[39m\u001b[39mfiles list has length zero!\u001b[39m\u001b[39m\"\u001b[39m\n\u001b[1;32m    304\u001b[0m clip_dfs \u001b[39m=\u001b[39m []\n\u001b[1;32m    305\u001b[0m invalid_samples \u001b[39m=\u001b[39m \u001b[39mset\u001b[39m()\n",
      "\u001b[0;31mAssertionError\u001b[0m: files list has length zero!"
     ]
    }
   ],
   "source": [
    "# Load necessary packages\n",
    "from opensoundscape.torch.models.cnn import load_model\n",
    "import opensoundscape\n",
    "# Other utilities and packages\n",
    "import torch\n",
    "from pathlib import Path\n",
    "import numpy as np\n",
    "import pandas as pd\n",
    "from glob import glob\n",
    "import subprocess\n",
    "\n",
    "# Set up plotting\n",
    "from matplotlib import pyplot as plt\n",
    "plt.rcParams['figure.figsize']=[15,5] # for large visuals\n",
    "%config InlineBackend.figure_format = 'retina'\n",
    "\n",
    "# Define and save the model\n",
    "from opensoundscape.torch.models.cnn import CNN\n",
    "model = CNN('resnet18', ['classA', 'classB'], 5.0)\n",
    "model.save('./temp.model')\n",
    "\n",
    "# Load the model\n",
    "model = load_model('./temp.model')\n",
    "    \n",
    "# Find all WAV files in current directory\n",
    "audio_files = glob('./*.WAV')\n",
    "\n",
    "# Predict on audio files\n",
    "scores = model.predict(\n",
    "    audio_files,\n",
    "    activation_layer='softmax',\n",
    ")\n",
    "\n",
    "print(scores)\n"
   ]
  },
  {
   "cell_type": "code",
   "execution_count": null,
   "id": "595bed70",
   "metadata": {},
   "outputs": [
    {
     "ename": "NameError",
     "evalue": "name 'Spectrogram' is not defined",
     "output_type": "error",
     "traceback": [
      "\u001b[0;31m---------------------------------------------------------------------------\u001b[0m",
      "\u001b[0;31mNameError\u001b[0m                                 Traceback (most recent call last)",
      "Cell \u001b[0;32mIn[1], line 1\u001b[0m\n\u001b[0;32m----> 1\u001b[0m spectrogram_object \u001b[39m=\u001b[39m Spectrogram\u001b[39m.\u001b[39mfrom_audio(audio_object)\n\u001b[1;32m      2\u001b[0m spectrogram_object\u001b[39m.\u001b[39mplot()\n",
      "\u001b[0;31mNameError\u001b[0m: name 'Spectrogram' is not defined"
     ]
    }
   ],
   "source": [
    "spectrogram_object = Spectrogram.from_audio(audio_object)\n",
    "spectrogram_object.plot()"
   ]
  },
  {
   "cell_type": "code",
   "execution_count": null,
   "id": "7151882d",
   "metadata": {},
   "outputs": [
    {
     "ename": "NameError",
     "evalue": "name 'Spectrogram' is not defined",
     "output_type": "error",
     "traceback": [
      "\u001b[0;31m---------------------------------------------------------------------------\u001b[0m",
      "\u001b[0;31mNameError\u001b[0m                                 Traceback (most recent call last)",
      "Cell \u001b[0;32mIn[2], line 1\u001b[0m\n\u001b[0;32m----> 1\u001b[0m spectrogram_object \u001b[39m=\u001b[39m Spectrogram\u001b[39m.\u001b[39mfrom_audio(audio_object)\n\u001b[1;32m      2\u001b[0m spectrogram_object\u001b[39m.\u001b[39mplot()\n",
      "\u001b[0;31mNameError\u001b[0m: name 'Spectrogram' is not defined"
     ]
    }
   ],
   "source": [
    "spectrogram_object = Spectrogram.from_audio(audio_object)\n",
    "spectrogram_object.plot()\n"
   ]
  },
  {
   "cell_type": "code",
   "execution_count": null,
   "id": "36208797",
   "metadata": {},
   "outputs": [
    {
     "name": "stdout",
     "output_type": "stream",
     "text": [
      "\u001b[0m\u001b[01;34mBirdMachineLearning\u001b[0m/  \u001b[01;34manaconda3\u001b[0m/  \u001b[01;34mopensoundscape\u001b[0m/\n"
     ]
    }
   ],
   "source": [
    "ls"
   ]
  },
  {
   "cell_type": "markdown",
   "id": "22e7e35b",
   "metadata": {},
   "source": [
    "ls"
   ]
  },
  {
   "cell_type": "code",
   "execution_count": null,
   "id": "cece7480",
   "metadata": {},
   "outputs": [],
   "source": [
    "import os"
   ]
  },
  {
   "cell_type": "code",
   "execution_count": null,
   "id": "67d12753",
   "metadata": {},
   "outputs": [],
   "source": [
    "import opensoundscape"
   ]
  },
  {
   "cell_type": "code",
   "execution_count": 17,
   "id": "e83ccb6b",
   "metadata": {},
   "outputs": [
    {
     "ename": "NameError",
     "evalue": "name 'audio_object' is not defined",
     "output_type": "error",
     "traceback": [
      "\u001b[0;31m---------------------------------------------------------------------------\u001b[0m",
      "\u001b[0;31mNameError\u001b[0m                                 Traceback (most recent call last)",
      "Cell \u001b[0;32mIn[17], line 2\u001b[0m\n\u001b[1;32m      1\u001b[0m \u001b[39mimport\u001b[39;00m \u001b[39mmatplotlib\u001b[39;00m\u001b[39m.\u001b[39;00m\u001b[39mpyplot\u001b[39;00m \u001b[39mas\u001b[39;00m \u001b[39mplt\u001b[39;00m\n\u001b[0;32m----> 2\u001b[0m plt\u001b[39m.\u001b[39mplot(audio_object\u001b[39m.\u001b[39msamples)\n\u001b[1;32m      3\u001b[0m plt\u001b[39m.\u001b[39mshow()\n",
      "\u001b[0;31mNameError\u001b[0m: name 'audio_object' is not defined"
     ]
    }
   ],
   "source": [
    "import matplotlib.pyplot as plt\n",
    "plt.plot(audio_object.samples)\n",
    "plt.show()\n"
   ]
  },
  {
   "cell_type": "code",
   "execution_count": null,
   "id": "db64be40",
   "metadata": {},
   "outputs": [],
   "source": []
  }
 ],
 "metadata": {
  "kernelspec": {
   "display_name": "Python 3 (ipykernel)",
   "language": "python",
   "name": "python3"
  }
 },
 "nbformat": 4,
 "nbformat_minor": 5
}
